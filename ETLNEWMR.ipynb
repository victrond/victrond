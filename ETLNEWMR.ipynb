{
 "cells": [
  {
   "cell_type": "code",
   "execution_count": 47,
   "metadata": {},
   "outputs": [
    {
     "name": "stderr",
     "output_type": "stream",
     "text": [
      "C:\\Users\\user\\AppData\\Local\\Temp\\ipykernel_14592\\360515974.py:14: FutureWarning: The default value of regex will change from True to False in a future version.\n",
      "  Consolidado['FECHA_INICIO_DESPLAZAMIENTO-MOVIL'] = Consolidado['FECHA_INICIO_DESPLAZAMIENTO-MOVIL'].str.replace('a. m.', 'a.m.')\n",
      "C:\\Users\\user\\AppData\\Local\\Temp\\ipykernel_14592\\360515974.py:16: FutureWarning: The default value of regex will change from True to False in a future version.\n",
      "  Consolidado['FECHA_INICIO_DESPLAZAMIENTO-MOVIL'] = Consolidado['FECHA_INICIO_DESPLAZAMIENTO-MOVIL'].str.replace('p. m.', 'p.m.')\n"
     ]
    }
   ],
   "source": [
    "# ETL DE LIMPIEZA DE DATOS PARA PODER UTILIZARLOS EN EL DASHBOARD\n",
    "#CARGA DE LIBRERIAS\n",
    "import numpy as np\n",
    "import pandas as pd\n",
    "import matplotlib.pyplot as plt\n",
    "import os\n",
    "# carga del archivo a modificar\n",
    "# lectura del archivo Llamadas_al_123_consolidado.csv\n",
    "Consolidado = pd.read_csv('Llamadas_al_123_consolidado.csv', sep=';', encoding='latin-1')\n",
    "# ELIMINAR LOS DATOS DUPLICADOS\n",
    "Consolidado = Consolidado.drop_duplicates()\n",
    "# MODIFICAR EL FORMATO DE LA FECHA DE LA COLUMNA FECHA_INICIO_DESPLAZAMIENTO-MOVIL\n",
    "# REEMPLAZAR EL CARACTER a. m. por a.m.\n",
    "Consolidado['FECHA_INICIO_DESPLAZAMIENTO-MOVIL'] = Consolidado['FECHA_INICIO_DESPLAZAMIENTO-MOVIL'].str.replace('a. m.', 'a.m.')\n",
    "# REEMPLAZAR EL CARACTER p. m. por p.m.\n",
    "Consolidado['FECHA_INICIO_DESPLAZAMIENTO-MOVIL'] = Consolidado['FECHA_INICIO_DESPLAZAMIENTO-MOVIL'].str.replace('p. m.', 'p.m.')\n",
    "# CAMBIAR A FORMATO DATETIME LA COLUMNA FECHA_INICIO_DESPLAZAMIENTO-MOVIL\n",
    "Consolidado['FECHA_INICIO_DESPLAZAMIENTO-MOVIL'] = pd.to_datetime(Consolidado['FECHA_INICIO_DESPLAZAMIENTO-MOVIL'])\n",
    "# VERIFICAR TIPO DE DATO DE LA COLUMNA FECHA_INICIO_DESPLAZAMIENTO-MOVIL\n",
    "Consolidado['FECHA_INICIO_DESPLAZAMIENTO-MOVIL'].dtypes # el archivo se puede utilizar como fecha en el dashboard\n",
    "# EXTRAER LA HORA DE LA COLUMNA FECHA_INICIO_DESPLAZAMIENTO-MOVIL\n",
    "Consolidado['HORA'] = Consolidado['FECHA_INICIO_DESPLAZAMIENTO-MOVIL'].dt.hour\n",
    "# EXTRAER EL MES DE LA COLUMNA FECHA_INICIO_DESPLAZAMIENTO-MOVIL\n",
    "Consolidado['MES'] = Consolidado['FECHA_INICIO_DESPLAZAMIENTO-MOVIL'].dt.month # no se pudo ejecutar el valor del mes.\n",
    "# REEMPLAZAR LOS VALORES DE SIN DATO POR NULO EN LA COLUMNA UNIDAD Y GENERO\n",
    "Consolidado['UNIDAD'] = Consolidado['UNIDAD'].replace('SIN_DATO', np.nan)\n",
    "Consolidado['GENERO'] = Consolidado['GENERO'].replace('SIN_DATO', np.nan)\n",
    "# REEMPLAZAR EL VALOR DE AÑOS POR YEAR EN LA COLUMNA UNIDAD\n",
    "Consolidado['UNIDAD'] = Consolidado['UNIDAD'].replace('A¤os', 'YEAR')\n",
    "# REEMPLAZAR EL VALOR DE CERO DE LA COLUMNA EDAD POR NULO\n",
    "Consolidado['EDAD'] = Consolidado['EDAD'].replace(0, np.nan)\n",
    "# CAMBIAR EL TEXTO DE LA COLUMNNA TIPO_INCIDENTE POR OTRO TEXTO CONTINUO\n",
    "Consolidado['TIPO_INCIDENTE'] = Consolidado['TIPO_INCIDENTE'].replace('Accidente Cerebro Vascular', 'ACCIDENTE_CEREBRO_VASCULAR')\n",
    "Consolidado['TIPO_INCIDENTE'] = Consolidado['TIPO_INCIDENTE'].replace('Accidente de Aviaci¢n', 'ACCIDENTE_AVIACION')\n",
    "Consolidado['TIPO_INCIDENTE'] = Consolidado['TIPO_INCIDENTE'].replace('Acompa¤amiento Evento', 'ACOMPANAMIENTO_EVENTO')\n",
    "Consolidado['TIPO_INCIDENTE'] = Consolidado['TIPO_INCIDENTE'].replace('Amenaza de Suicidio', 'AMENAZA_SUICIDIO')\n",
    "Consolidado['TIPO_INCIDENTE'] = Consolidado['TIPO_INCIDENTE'].replace('Ca¡da de Altura', 'CAIDA_ALTURA')\n",
    "Consolidado['TIPO_INCIDENTE'] = Consolidado['TIPO_INCIDENTE'].replace('Convulsi¢n', 'CONVULSION')\n",
    "Consolidado['TIPO_INCIDENTE'] = Consolidado['TIPO_INCIDENTE'].replace('Dolor Tor cico', 'DOLOR_TORACICO')\n",
    "Consolidado['TIPO_INCIDENTE'] = Consolidado['TIPO_INCIDENTE'].replace('Electrocuci¢n / rescate', 'ELECTROCUCION_RESCATE')\n",
    "Consolidado['TIPO_INCIDENTE'] = Consolidado['TIPO_INCIDENTE'].replace('Enfermo', 'ENFERMEDAD')\n",
    "Consolidado['TIPO_INCIDENTE'] = Consolidado['TIPO_INCIDENTE'].replace('Evento Respiratorio', 'EVENTO_RESPIRATORIO')\n",
    "Consolidado['TIPO_INCIDENTE'] = Consolidado['TIPO_INCIDENTE'].replace('Herido', 'HERIDO')\n",
    "Consolidado['TIPO_INCIDENTE'] = Consolidado['TIPO_INCIDENTE'].replace('Inconsciente / Paro cardiorespiratorio', 'INCONSCIENTE_PARO_CARDIORESPIRATORIO')\n",
    "Consolidado['TIPO_INCIDENTE'] = Consolidado['TIPO_INCIDENTE'].replace('Intento de Suicidio', 'INTENTO_SUICIDIO')\n",
    "Consolidado['TIPO_INCIDENTE'] = Consolidado['TIPO_INCIDENTE'].replace('Intoxicaci¢n', 'INTOXICACION')\n",
    "Consolidado['TIPO_INCIDENTE'] = Consolidado['TIPO_INCIDENTE'].replace('Lesi¢n por arma de fuego', 'LESION_ARMA_FUEGO')\n",
    "Consolidado['TIPO_INCIDENTE'] = Consolidado['TIPO_INCIDENTE'].replace('Maltrato', 'MALTRATO')\n",
    "Consolidado['TIPO_INCIDENTE'] = Consolidado['TIPO_INCIDENTE'].replace('Patolog¡a Ginecobsttrica', 'PAT_GINECOBSTETRICA')\n",
    "Consolidado['TIPO_INCIDENTE'] = Consolidado['TIPO_INCIDENTE'].replace('Quemaduras', 'QUEMADURAS')\n",
    "Consolidado['TIPO_INCIDENTE'] = Consolidado['TIPO_INCIDENTE'].replace('S¡ntomas Gastrointestinales', 'SINTOMAS_GASTROINTESTINALES')\n",
    "Consolidado['TIPO_INCIDENTE'] = Consolidado['TIPO_INCIDENTE'].replace('Sangrado Vaginal', 'SANGRADO_VAGINAL')\n",
    "Consolidado['TIPO_INCIDENTE'] = Consolidado['TIPO_INCIDENTE'].replace('Sospecha de Covid-19', 'SOSPECHA_COVID')\n",
    "Consolidado['TIPO_INCIDENTE'] = Consolidado['TIPO_INCIDENTE'].replace('Solicitud de Apoyo', 'SOLICITUD_APOYO')\n",
    "Consolidado['TIPO_INCIDENTE'] = Consolidado['TIPO_INCIDENTE'].replace('Trastorno Mental', 'TRASTORNO_MENTAL')\n",
    "Consolidado['TIPO_INCIDENTE'] = Consolidado['TIPO_INCIDENTE'].replace('Violencia Sexual', 'VIOLENCIA_SEXUAL')\n",
    "# CARGAR EL ARCHIVO EDITADO A UNA NUEVA HOJA DE CALCULO\n",
    "Consolidado.to_excel('Consolidado123editado.xlsx', index=False)\n",
    "# EXPORTAR EL ARCHIVO COMO CSV SEPARADO POR COMAS Y UTF-8 porque lo pide el looker.\n",
    "Consolidado.to_csv('Consolidado123editado.csv', index=False, sep=',', encoding='utf-8')\n",
    "# cargue el archivo directamente al looker de google y solo me restringio que el archivo fuese codificado en utf-8\n",
    "\n",
    "\n",
    "\n",
    "\n",
    "\n",
    "\n",
    "\n",
    "\n",
    "\n",
    "\n",
    "\n",
    "\n",
    "\n",
    "\n",
    "\n"
   ]
  }
 ],
 "metadata": {
  "kernelspec": {
   "display_name": "Python 3.10.8 64-bit (microsoft store)",
   "language": "python",
   "name": "python3"
  },
  "language_info": {
   "codemirror_mode": {
    "name": "ipython",
    "version": 3
   },
   "file_extension": ".py",
   "mimetype": "text/x-python",
   "name": "python",
   "nbconvert_exporter": "python",
   "pygments_lexer": "ipython3",
   "version": "3.10.8"
  },
  "orig_nbformat": 4,
  "vscode": {
   "interpreter": {
    "hash": "7b1f2b33e866b0bf2409397e5f58ba9cdf170d3b7f64c8f359c79998e2f88ad4"
   }
  }
 },
 "nbformat": 4,
 "nbformat_minor": 2
}
