{
 "cells": [
  {
   "cell_type": "code",
   "execution_count": 21,
   "metadata": {},
   "outputs": [
    {
     "name": "stdout",
     "output_type": "stream",
     "text": [
      "DEPTH            0\n",
      "VCOAL        12122\n",
      "RHOB         12062\n",
      "PERM            45\n",
      "SW           12122\n",
      "TVD              0\n",
      "PayPoint         0\n",
      "PHIE         12122\n",
      "RS           12118\n",
      "PRES_FM      14084\n",
      "CALIPER      12133\n",
      "ResPoint         0\n",
      "NPHI         12077\n",
      "BVW          12122\n",
      "GAMMARY         44\n",
      "SWC          12122\n",
      "OILSHOW      14061\n",
      "VCLAY        12122\n",
      "SXO          12122\n",
      "ROP              2\n",
      "PEF          12062\n",
      "TEMP             0\n",
      "BOREHOLED    12062\n",
      "PERFS_IR     14077\n",
      "BADHOLE_~    12133\n",
      "TGAS_IR          2\n",
      "RM_IR        12117\n",
      "SPC          12062\n",
      "DRHO_IR      12062\n",
      "TENS_IR      12062\n",
      "Perm            45\n",
      "RD_IR        12118\n",
      "VSILT        12122\n",
      "METANO        8900\n",
      "ETANO         8900\n",
      "PROPANO       8900\n",
      "CLAYSTON~    11780\n",
      "CARBON       11780\n",
      "BUTANO       11073\n",
      "PENTANO      10390\n",
      "NBUTANO      12532\n",
      "NPENTANO      9814\n",
      "ARENA        11780\n",
      "ARCILLA      11780\n",
      "LIMO         11780\n",
      "dtype: int64\n"
     ]
    },
    {
     "data": {
      "text/plain": [
       "(14101, 45)"
      ]
     },
     "execution_count": 21,
     "metadata": {},
     "output_type": "execute_result"
    }
   ],
   "source": [
    "# analisis de matrices de correlación y covarianza\n",
    "# Fecha: 2020-10-19\n",
    "# carga del archivo de correlación\n",
    "import pandas as pd\n",
    "import numpy as np\n",
    "import matplotlib.pyplot as plt\n",
    "# importar el archivo de excel\n",
    "Reg = pd.read_excel('Corre_Registro.xlsx')\n",
    "# leer las columnas de la tabla\n",
    "Reg.columns\n",
    "# buscar las columnas de valor numerico de -999 en toda la columna\n",
    "Vacio=Reg[Reg == -999].count()\n",
    "print(Vacio)\n",
    "# el tamaño en filas y columnas del dataframe\n",
    "Reg.shape\n",
    "\n"
   ]
  },
  {
   "cell_type": "code",
   "execution_count": 24,
   "metadata": {},
   "outputs": [
    {
     "name": "stdout",
     "output_type": "stream",
     "text": [
      "(3711, 45)\n",
      "DEPTH           0\n",
      "VCOAL        1732\n",
      "RHOB         1692\n",
      "PERM           25\n",
      "SW           1732\n",
      "TVD             0\n",
      "PayPoint        0\n",
      "PHIE         1732\n",
      "RS           1728\n",
      "PRES_FM      3694\n",
      "CALIPER      1743\n",
      "ResPoint        0\n",
      "NPHI         1692\n",
      "BVW          1732\n",
      "GAMMARY        24\n",
      "SWC          1732\n",
      "OILSHOW      3671\n",
      "VCLAY        1732\n",
      "SXO          1732\n",
      "ROP             0\n",
      "PEF          1692\n",
      "TEMP            0\n",
      "BOREHOLED    1692\n",
      "PERFS_IR     3687\n",
      "BADHOLE_~    1743\n",
      "TGAS_IR         0\n",
      "RM_IR        1727\n",
      "SPC          1692\n",
      "DRHO_IR      1692\n",
      "TENS_IR      1692\n",
      "Perm           25\n",
      "RD_IR        1728\n",
      "VSILT        1732\n",
      "METANO          0\n",
      "ETANO           0\n",
      "PROPANO         0\n",
      "CLAYSTON~    1410\n",
      "CARBON       1410\n",
      "BUTANO        683\n",
      "PENTANO         0\n",
      "NBUTANO      2142\n",
      "NPENTANO        0\n",
      "ARENA        1410\n",
      "ARCILLA      1410\n",
      "LIMO         1410\n",
      "dtype: int64\n"
     ]
    }
   ],
   "source": [
    "# Hacer un dataframe filtrando solo los datos que tienen valores numericos en la columna PENTANO Y NPENTANO\n",
    "RegPay=Reg[(Reg['PENTANO'] != -999) & (Reg['NPENTANO'] != -999)]\n",
    "# el tamaño en filas y columnas del dataframe RegPay\n",
    "RegPay.shape\n",
    "print(RegPay.shape)\n",
    "VacioRegPay=RegPay[RegPay == -999].count()\n",
    "print(VacioRegPay)\n",
    "# exportar a excel el archivo con valores positivos de PENTANO Y NPENTANO\n",
    "RegPay.to_excel('RegPay.xlsx', index=False)\n",
    "\n"
   ]
  },
  {
   "cell_type": "code",
   "execution_count": 25,
   "metadata": {},
   "outputs": [
    {
     "data": {
      "image/png": "[encoded data removed]",
      "text/plain": [
       "<Figure size 432x288 with 1 Axes>"
      ]
     },
     "metadata": {
      "needs_background": "light"
     },
     "output_type": "display_data"
    }
   ],
   "source": [
    "#hacer una grafica de DEPTH vs PENTANO\n",
    "import matplotlib.pyplot as plt\n",
    "plt.scatter(RegPay['DEPTH'],RegPay['PENTANO'])\n",
    "plt.xlabel('DEPTH')\n",
    "plt.ylabel('PENTANO')\n",
    "plt.show()\n"
   ]
  },
  {
   "cell_type": "code",
   "execution_count": 26,
   "metadata": {},
   "outputs": [
    {
     "name": "stdout",
     "output_type": "stream",
     "text": [
      "(1001, 45)\n",
      "DEPTH          0\n",
      "VCOAL          0\n",
      "RHOB           0\n",
      "PERM           0\n",
      "SW             0\n",
      "TVD            0\n",
      "PayPoint       0\n",
      "PHIE           0\n",
      "RS             0\n",
      "PRES_FM      984\n",
      "CALIPER        0\n",
      "ResPoint       0\n",
      "NPHI           0\n",
      "BVW            0\n",
      "GAMMARY        0\n",
      "SWC            0\n",
      "OILSHOW      961\n",
      "VCLAY          0\n",
      "SXO            0\n",
      "ROP            0\n",
      "PEF            0\n",
      "TEMP           0\n",
      "BOREHOLED      0\n",
      "PERFS_IR     977\n",
      "BADHOLE_~      0\n",
      "TGAS_IR        0\n",
      "RM_IR          0\n",
      "SPC            0\n",
      "DRHO_IR        0\n",
      "TENS_IR        0\n",
      "Perm           0\n",
      "RD_IR          0\n",
      "VSILT          0\n",
      "METANO         0\n",
      "ETANO          0\n",
      "PROPANO        0\n",
      "CLAYSTON~      0\n",
      "CARBON         0\n",
      "BUTANO         0\n",
      "PENTANO        0\n",
      "NBUTANO      232\n",
      "NPENTANO       0\n",
      "ARENA          0\n",
      "ARCILLA        0\n",
      "LIMO           0\n",
      "dtype: int64\n"
     ]
    }
   ],
   "source": [
    "# HACER UN DATAFRAME FILTRANDO LOS DATOS ENTRE 7250 Y 7750 DE DEPTH\n",
    "RegPayInt=RegPay[(RegPay['DEPTH'] >= 7250) & (RegPay['DEPTH'] <= 7750)]\n",
    "# el tamaño en filas y columnas del dataframe RegPayInt\n",
    "RegPayInt.shape\n",
    "print(RegPayInt.shape)\n",
    "VacioRegPayInt=RegPayInt[RegPayInt == -999].count()\n",
    "print(VacioRegPayInt)\n",
    "# exportar a excel el archivo con la zona de interes entre 7250 y 7750 de DEPTH\n",
    "RegPayInt.to_excel('RegPayInt.xlsx', index=False)"
   ]
  },
  {
   "cell_type": "code",
   "execution_count": 30,
   "metadata": {},
   "outputs": [
    {
     "name": "stdout",
     "output_type": "stream",
     "text": [
      "               ARENA      PENTANO\n",
      "ARENA    1092.021978  -116.449209\n",
      "PENTANO  -116.449209  2731.023936\n"
     ]
    },
    {
     "data": {
      "image/png": "[encoded data removed]",
      "text/plain": [
       "<Figure size 432x288 with 1 Axes>"
      ]
     },
     "metadata": {
      "needs_background": "light"
     },
     "output_type": "display_data"
    },
    {
     "name": "stdout",
     "output_type": "stream",
     "text": [
      "                  PERM     NPENTANO\n",
      "PERM      11706.946818    61.618619\n",
      "NPENTANO     61.618619  1204.770780\n"
     ]
    },
    {
     "data": {
      "image/png": "[encoded data removed]",
      "text/plain": [
       "<Figure size 432x288 with 1 Axes>"
      ]
     },
     "metadata": {
      "needs_background": "light"
     },
     "output_type": "display_data"
    }
   ],
   "source": [
    "#Hacer una matriz de covarianza con varias columnas de un dataframe\n",
    "# hacer covarianza de ARENA contra PENTANO\n",
    "CovP=RegPayInt[['ARENA','PENTANO']].cov()\n",
    "print(CovP)\n",
    "# GRAFICAR LA COVARIANZA DE Respoint contra PENTANO\n",
    "import matplotlib.pyplot as plt\n",
    "plt.scatter(RegPayInt['ARENA'],RegPayInt['PENTANO'])\n",
    "plt.xlabel('ARENA')\n",
    "plt.ylabel('PENTANO')\n",
    "plt.show()\n",
    "# hacer covarianza de PERM contra NPENTANO\n",
    "CovMD=RegPayInt[['PERM','NPENTANO']].cov()\n",
    "print(CovMD)\n",
    "# GRAFICAR LA COVARIANZA DE GAMMARY contra NPENTANO\n",
    "import matplotlib.pyplot as plt\n",
    "plt.scatter(RegPayInt['PERM'],RegPayInt['NPENTANO'])\n",
    "plt.xlabel('PERM')\n",
    "plt.ylabel('NPENTANO')\n",
    "plt.show()"
   ]
  },
  {
   "cell_type": "code",
   "execution_count": 34,
   "metadata": {},
   "outputs": [
    {
     "name": "stdout",
     "output_type": "stream",
     "text": [
      "(81, 45)\n",
      "DEPTH         0\n",
      "VCOAL         0\n",
      "RHOB          0\n",
      "PERM          0\n",
      "SW            0\n",
      "TVD           0\n",
      "PayPoint      0\n",
      "PHIE          0\n",
      "RS            0\n",
      "PRES_FM      78\n",
      "CALIPER       0\n",
      "ResPoint      0\n",
      "NPHI          0\n",
      "BVW           0\n",
      "GAMMARY       0\n",
      "SWC           0\n",
      "OILSHOW      41\n",
      "VCLAY         0\n",
      "SXO           0\n",
      "ROP           0\n",
      "PEF           0\n",
      "TEMP          0\n",
      "BOREHOLED     0\n",
      "PERFS_IR     79\n",
      "BADHOLE_~     0\n",
      "TGAS_IR       0\n",
      "RM_IR         0\n",
      "SPC           0\n",
      "DRHO_IR       0\n",
      "TENS_IR       0\n",
      "Perm          0\n",
      "RD_IR         0\n",
      "VSILT         0\n",
      "METANO        0\n",
      "ETANO         0\n",
      "PROPANO       0\n",
      "CLAYSTON~     0\n",
      "CARBON        0\n",
      "BUTANO        0\n",
      "PENTANO       0\n",
      "NBUTANO       0\n",
      "NPENTANO      0\n",
      "ARENA         0\n",
      "ARCILLA       0\n",
      "LIMO          0\n",
      "dtype: int64\n"
     ]
    }
   ],
   "source": [
    "# HACER EL DATAFRAME FILTRANDO LOS VALORES DE METANO MAYORES A 1000\n",
    "RegPayIntM=RegPayInt[(RegPayInt['METANO'] >= 1000)]\n",
    "# el tamaño en filas y columnas del dataframe RegPayIntM\n",
    "RegPayIntM.shape\n",
    "print(RegPayIntM.shape)\n",
    "VacioRegPayIntM=RegPayIntM[RegPayIntM == -999].count()\n",
    "print(VacioRegPayIntM)\n",
    "# exportar a excel el archivo con la zona de interes entre 7250 y 7750 de DEPTH y METANO mayor a 5000\n",
    "RegPayIntM.to_excel('RegPayIntM.xlsx', index=False)\n",
    " "
   ]
  },
  {
   "cell_type": "code",
   "execution_count": 36,
   "metadata": {},
   "outputs": [
    {
     "name": "stdout",
     "output_type": "stream",
     "text": [
      "               ARENA       PENTANO\n",
      "ARENA     520.277778  -2065.580530\n",
      "PENTANO -2065.580530  18901.590572\n"
     ]
    },
    {
     "data": {
      "image/png": "[encoded data removed]",
      "text/plain": [
       "<Figure size 432x288 with 1 Axes>"
      ]
     },
     "metadata": {
      "needs_background": "light"
     },
     "output_type": "display_data"
    },
    {
     "name": "stdout",
     "output_type": "stream",
     "text": [
      "                 PERM     NPENTANO\n",
      "PERM      4973.320436  1830.177866\n",
      "NPENTANO  1830.177866  8420.584523\n"
     ]
    },
    {
     "data": {
      "image/png": "[encoded data removed]",
      "text/plain": [
       "<Figure size 432x288 with 1 Axes>"
      ]
     },
     "metadata": {
      "needs_background": "light"
     },
     "output_type": "display_data"
    },
    {
     "name": "stdout",
     "output_type": "stream",
     "text": [
      "               SWC     NPENTANO\n",
      "SWC       0.050374    -0.125133\n",
      "NPENTANO -0.125133  8420.584523\n"
     ]
    },
    {
     "data": {
      "image/png": "[encoded data removed]",
      "text/plain": [
       "<Figure size 432x288 with 1 Axes>"
      ]
     },
     "metadata": {
      "needs_background": "light"
     },
     "output_type": "display_data"
    }
   ],
   "source": [
    "#Hacer una matriz de covarianza con varias columnas de un dataframe con el criterio de METANO mayor a 1000\n",
    "# hacer covarianza de ARENA contra PENTANO\n",
    "CovPM=RegPayIntM[['ARENA','PENTANO']].cov()\n",
    "print(CovPM)\n",
    "# GRAFICAR LA COVARIANZA DE Respoint contra PENTANO\n",
    "import matplotlib.pyplot as plt\n",
    "plt.scatter(RegPayIntM['ARENA'],RegPayIntM['PENTANO'])\n",
    "plt.xlabel('ARENA')\n",
    "plt.ylabel('PENTANO')\n",
    "plt.show()\n",
    "# hacer covarianza de PERM contra NPENTANO\n",
    "CovMD=RegPayIntM[['PERM','NPENTANO']].cov()\n",
    "print(CovMD)\n",
    "# GRAFICAR LA COVARIANZA DE GAMMARY contra NPENTANO\n",
    "import matplotlib.pyplot as plt\n",
    "plt.scatter(RegPayIntM['PERM'],RegPayIntM['NPENTANO'])\n",
    "plt.xlabel('PERM')\n",
    "plt.ylabel('NPENTANO')\n",
    "plt.show()\n",
    "# hacer covarianza de SWC contra NPENTANO\n",
    "CovMDS=RegPayIntM[['SWC','NPENTANO']].cov()\n",
    "print(CovMDS)\n",
    "# GRAFICAR LA COVARIANZA DE SWC CONTRA NPENTANO\n",
    "import matplotlib.pyplot as plt\n",
    "plt.scatter(RegPayIntM['SWC'],RegPayIntM['NPENTANO'])\n",
    "plt.xlabel('SWC')\n",
    "plt.ylabel('NPENTANO')\n",
    "plt.show()"
   ]
  },
  {
   "cell_type": "code",
   "execution_count": 40,
   "metadata": {},
   "outputs": [
    {
     "name": "stdout",
     "output_type": "stream",
     "text": [
      "            SWC         PERM      PHIE      RHOB      NPHI\n",
      "SWC    0.050374   -11.076032 -0.016148  0.016976  0.002037\n",
      "PERM -11.076032  4973.320436  3.653092 -4.438787  1.084664\n",
      "PHIE  -0.016148     3.653092  0.005331 -0.005570 -0.000756\n",
      "RHOB   0.016976    -4.438787 -0.005570  0.007657 -0.000304\n",
      "NPHI   0.002037     1.084664 -0.000756 -0.000304  0.003082\n"
     ]
    },
    {
     "data": {
      "image/png": "[encoded data removed]",
      "text/plain": [
       "<Figure size 432x288 with 1 Axes>"
      ]
     },
     "metadata": {
      "needs_background": "light"
     },
     "output_type": "display_data"
    },
    {
     "data": {
      "image/png": "[encoded data removed]",
      "text/plain": [
       "<Figure size 432x288 with 1 Axes>"
      ]
     },
     "metadata": {
      "needs_background": "light"
     },
     "output_type": "display_data"
    },
    {
     "data": {
      "image/png": "[encoded data removed]",
      "text/plain": [
       "<Figure size 432x288 with 1 Axes>"
      ]
     },
     "metadata": {
      "needs_background": "light"
     },
     "output_type": "display_data"
    },
    {
     "data": {
      "image/png": "[encoded data removed]",
      "text/plain": [
       "<Figure size 432x288 with 1 Axes>"
      ]
     },
     "metadata": {
      "needs_background": "light"
     },
     "output_type": "display_data"
    }
   ],
   "source": [
    "# HACER LA COVARIANZA ENTRE LA SATURACION SWC, LA PERMEABILIDAD PERM Y LA POROSIDAD PHIE Y RHOB\n",
    "CovMDSW=RegPayIntM[['SWC','PERM','PHIE','RHOB','NPHI']].cov()\n",
    "print(CovMDSW)\n",
    "# GRAFICAR LA COVARIANZA DE SWC CONTRA PERM\n",
    "import matplotlib.pyplot as plt\n",
    "plt.scatter(RegPayIntM['SWC'],RegPayIntM['PERM'])\n",
    "plt.xlabel('SWC')\n",
    "plt.ylabel('PERM')\n",
    "plt.show()\n",
    "# GRAFICAR LA COVARIANZA DE SWC CONTRA PHIE\n",
    "plt.scatter(RegPayIntM['SWC'],RegPayIntM['PHIE'])\n",
    "plt.xlabel('SWC')\n",
    "plt.ylabel('PHIE')\n",
    "plt.show()\n",
    "# GRAFICAR LA COVARIANZA DE PERM CONTRA RHOB\n",
    "plt.scatter(RegPayIntM['PERM'],RegPayIntM['RHOB'])\n",
    "plt.xlabel('PERM')\n",
    "plt.ylabel('RHOB')\n",
    "plt.show()\n",
    "# GRAFICAR LA COVARIANZA DE PERM CONTRA NPHI\n",
    "plt.scatter(RegPayIntM['PERM'],RegPayIntM['NPHI'])\n",
    "plt.xlabel('PERM')\n",
    "plt.ylabel('NPHI')\n",
    "plt.show()"
   ]
  }
 ],
 "metadata": {
  "kernelspec": {
   "display_name": "Python 3.8.8 ('base')",
   "language": "python",
   "name": "python3"
  },
  "language_info": {
   "codemirror_mode": {
    "name": "ipython",
    "version": 3
   },
   "file_extension": ".py",
   "mimetype": "text/x-python",
   "name": "python",
   "nbconvert_exporter": "python",
   "pygments_lexer": "ipython3",
   "version": "3.8.8"
  },
  "orig_nbformat": 4,
  "vscode": {
   "interpreter": {
    "hash": "a077222d77dfe082b8f1dd562ad70e458ac2ab76993a0b248ab0476e32e9e8dd"
   }
  }
 },
 "nbformat": 4,
 "nbformat_minor": 2
}
